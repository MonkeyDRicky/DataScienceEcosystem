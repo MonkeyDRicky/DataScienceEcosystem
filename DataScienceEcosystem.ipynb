{
 "cells": [
  {
   "cell_type": "markdown",
   "id": "d5cde4ae-b7f8-4bdd-8544-9d2e289f605f",
   "metadata": {},
   "source": [
    "# Data Science Tools and Ecosystem"
   ]
  },
  {
   "cell_type": "markdown",
   "id": "ddd6d7e5-7738-4e35-aa15-4fee694eb329",
   "metadata": {},
   "source": [
    "### In this notebook, Data Science Tools and Ecosystem are summarized."
   ]
  },
  {
   "cell_type": "markdown",
   "id": "406aa286-4def-4582-a303-e4ec9095348c",
   "metadata": {},
   "source": [
    "#### Objectives:\n",
    "+ Data science Languages \n",
    "+ Data Science Libraries\n",
    "+ Data Science Tools\n",
    "+ Arithmetic Expressions in python"
   ]
  },
  {
   "cell_type": "markdown",
   "id": "647116e8-13c8-46c6-92d7-77870594c2c7",
   "metadata": {},
   "source": [
    "### Some of the popular languages that Data Scientists use are:\n",
    "1. Python\n",
    "2. R\n",
    "3. SQL"
   ]
  },
  {
   "attachments": {},
   "cell_type": "markdown",
   "id": "92ce1737-62bd-49a5-a49c-b02a08d50172",
   "metadata": {},
   "source": [
    "### Some of the commonly used libraries used by Data Scientists include:\n",
    "1. TensorFlow\n",
    "2. SciPy\n",
    "3. Pandas"
   ]
  },
  {
   "cell_type": "markdown",
   "id": "4087fcb7-534a-4686-ba0a-4fd18d88fcf7",
   "metadata": {},
   "source": [
    "|Data Science Tools|\n",
    "|------------------|\n",
    "|Zoho Analytics|\n",
    "|Apache Hadoop|\n",
    "|Tempête|"
   ]
  },
  {
   "cell_type": "markdown",
   "id": "7a4a82c2-12ce-4da3-bd4b-79fe713d397d",
   "metadata": {},
   "source": [
    "### Below are a few examples of evaluating arithmetic expressions in Python"
   ]
  },
  {
   "cell_type": "code",
   "execution_count": 2,
   "id": "68bf9f41-0f01-4336-ba1c-b4d760518834",
   "metadata": {},
   "outputs": [
    {
     "data": {
      "text/plain": [
       "17"
      ]
     },
     "execution_count": 2,
     "metadata": {},
     "output_type": "execute_result"
    }
   ],
   "source": [
    "# This a simple arithmetic expression to mutiply then add integers\n",
    "(3*4)+5"
   ]
  },
  {
   "cell_type": "code",
   "execution_count": 4,
   "id": "c4ce3a69-1161-4d22-adf5-7d7ce2d83096",
   "metadata": {},
   "outputs": [
    {
     "data": {
      "text/plain": [
       "3"
      ]
     },
     "execution_count": 4,
     "metadata": {},
     "output_type": "execute_result"
    }
   ],
   "source": [
    "# This will convert 200 minutes to hours by diving by 60\n",
    "200//60"
   ]
  },
  {
   "cell_type": "markdown",
   "id": "1fe35c50-7e8d-460e-8cc3-4f649f9e0c08",
   "metadata": {},
   "source": [
    "## Author\n",
    "NZIENGUI BISSIEMO Ghreg Pierrick"
   ]
  }
 ],
 "metadata": {
  "kernelspec": {
   "display_name": "Python 3 (ipykernel)",
   "language": "python",
   "name": "python3"
  },
  "language_info": {
   "codemirror_mode": {
    "name": "ipython",
    "version": 3
   },
   "file_extension": ".py",
   "mimetype": "text/x-python",
   "name": "python",
   "nbconvert_exporter": "python",
   "pygments_lexer": "ipython3",
   "version": "3.11.7"
  }
 },
 "nbformat": 4,
 "nbformat_minor": 5
}
